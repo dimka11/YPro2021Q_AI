{
  "nbformat": 4,
  "nbformat_minor": 0,
  "metadata": {
    "colab": {
      "name": "YPro_Task11.ipynb",
      "provenance": [],
      "collapsed_sections": []
    },
    "kernelspec": {
      "name": "python3",
      "display_name": "Python 3"
    },
    "language_info": {
      "name": "python"
    },
    "accelerator": "GPU"
  },
  "cells": [
    {
      "cell_type": "code",
      "execution_count": null,
      "metadata": {
        "colab": {
          "base_uri": "https://localhost:8080/"
        },
        "id": "ALOhMsMAar03",
        "outputId": "590834f7-ac11-4380-c6dc-4b9f0ce0d5d5"
      },
      "outputs": [
        {
          "output_type": "stream",
          "name": "stdout",
          "text": [
            "Mounted at /content/drive\n"
          ]
        }
      ],
      "source": [
        "from google.colab import drive\n",
        "drive._mount('/content/drive')"
      ]
    },
    {
      "cell_type": "code",
      "source": [
        "!pip install catboost"
      ],
      "metadata": {
        "colab": {
          "base_uri": "https://localhost:8080/"
        },
        "id": "GhEBEG1X1hof",
        "outputId": "025c62af-5c9d-4a1b-dbdc-471987598596"
      },
      "execution_count": null,
      "outputs": [
        {
          "output_type": "stream",
          "name": "stdout",
          "text": [
            "Collecting catboost\n",
            "  Downloading catboost-1.0.3-cp37-none-manylinux1_x86_64.whl (76.3 MB)\n",
            "\u001b[K     |████████████████████████████████| 76.3 MB 53 kB/s \n",
            "\u001b[?25hRequirement already satisfied: scipy in /usr/local/lib/python3.7/dist-packages (from catboost) (1.4.1)\n",
            "Requirement already satisfied: six in /usr/local/lib/python3.7/dist-packages (from catboost) (1.15.0)\n",
            "Requirement already satisfied: graphviz in /usr/local/lib/python3.7/dist-packages (from catboost) (0.10.1)\n",
            "Requirement already satisfied: matplotlib in /usr/local/lib/python3.7/dist-packages (from catboost) (3.2.2)\n",
            "Requirement already satisfied: pandas>=0.24.0 in /usr/local/lib/python3.7/dist-packages (from catboost) (1.1.5)\n",
            "Requirement already satisfied: numpy>=1.16.0 in /usr/local/lib/python3.7/dist-packages (from catboost) (1.19.5)\n",
            "Requirement already satisfied: plotly in /usr/local/lib/python3.7/dist-packages (from catboost) (4.4.1)\n",
            "Requirement already satisfied: python-dateutil>=2.7.3 in /usr/local/lib/python3.7/dist-packages (from pandas>=0.24.0->catboost) (2.8.2)\n",
            "Requirement already satisfied: pytz>=2017.2 in /usr/local/lib/python3.7/dist-packages (from pandas>=0.24.0->catboost) (2018.9)\n",
            "Requirement already satisfied: cycler>=0.10 in /usr/local/lib/python3.7/dist-packages (from matplotlib->catboost) (0.11.0)\n",
            "Requirement already satisfied: pyparsing!=2.0.4,!=2.1.2,!=2.1.6,>=2.0.1 in /usr/local/lib/python3.7/dist-packages (from matplotlib->catboost) (3.0.6)\n",
            "Requirement already satisfied: kiwisolver>=1.0.1 in /usr/local/lib/python3.7/dist-packages (from matplotlib->catboost) (1.3.2)\n",
            "Requirement already satisfied: retrying>=1.3.3 in /usr/local/lib/python3.7/dist-packages (from plotly->catboost) (1.3.3)\n",
            "Installing collected packages: catboost\n",
            "Successfully installed catboost-1.0.3\n"
          ]
        }
      ]
    },
    {
      "cell_type": "code",
      "source": [
        "import pandas as pd\n",
        "import matplotlib.pyplot as plt \n",
        "import seaborn as sns \n",
        "from sklearn.model_selection import train_test_split"
      ],
      "metadata": {
        "id": "uyP0IO--bXRT"
      },
      "execution_count": null,
      "outputs": []
    },
    {
      "cell_type": "code",
      "source": [
        "train = pd.read_csv('/content/drive/MyDrive/Tasks/11/train_data.csv')\n",
        "test = pd.read_csv('/content/drive/MyDrive/Tasks/11/test_data.csv')"
      ],
      "metadata": {
        "id": "wW-LUwYxbAAv"
      },
      "execution_count": null,
      "outputs": []
    },
    {
      "cell_type": "code",
      "source": [
        "train.head()"
      ],
      "metadata": {
        "colab": {
          "base_uri": "https://localhost:8080/",
          "height": 270
        },
        "id": "23i1lKVWuknE",
        "outputId": "f62bd19c-a72e-442b-80d3-4da99cb829a0"
      },
      "execution_count": null,
      "outputs": [
        {
          "output_type": "execute_result",
          "data": {
            "text/html": [
              "\n",
              "  <div id=\"df-38c3c1a6-1341-48ab-96ff-cbc276ebba1a\">\n",
              "    <div class=\"colab-df-container\">\n",
              "      <div>\n",
              "<style scoped>\n",
              "    .dataframe tbody tr th:only-of-type {\n",
              "        vertical-align: middle;\n",
              "    }\n",
              "\n",
              "    .dataframe tbody tr th {\n",
              "        vertical-align: top;\n",
              "    }\n",
              "\n",
              "    .dataframe thead th {\n",
              "        text-align: right;\n",
              "    }\n",
              "</style>\n",
              "<table border=\"1\" class=\"dataframe\">\n",
              "  <thead>\n",
              "    <tr style=\"text-align: right;\">\n",
              "      <th></th>\n",
              "      <th>Location</th>\n",
              "      <th>MinTemp</th>\n",
              "      <th>MaxTemp</th>\n",
              "      <th>Rainfall</th>\n",
              "      <th>Evaporation</th>\n",
              "      <th>Sunshine</th>\n",
              "      <th>WindGustDir</th>\n",
              "      <th>WindGustSpeed</th>\n",
              "      <th>WindDir9am</th>\n",
              "      <th>WindDir3pm</th>\n",
              "      <th>WindSpeed9am</th>\n",
              "      <th>WindSpeed3pm</th>\n",
              "      <th>Humidity9am</th>\n",
              "      <th>Humidity3pm</th>\n",
              "      <th>Pressure9am</th>\n",
              "      <th>Pressure3pm</th>\n",
              "      <th>Cloud9am</th>\n",
              "      <th>Cloud3pm</th>\n",
              "      <th>Temp9am</th>\n",
              "      <th>Temp3pm</th>\n",
              "      <th>RainToday</th>\n",
              "      <th>RainTomorrow</th>\n",
              "    </tr>\n",
              "  </thead>\n",
              "  <tbody>\n",
              "    <tr>\n",
              "      <th>0</th>\n",
              "      <td>Brisbane</td>\n",
              "      <td>13.7</td>\n",
              "      <td>23.6</td>\n",
              "      <td>0.0</td>\n",
              "      <td>5.0</td>\n",
              "      <td>9.6</td>\n",
              "      <td>SSE</td>\n",
              "      <td>24.0</td>\n",
              "      <td>SSW</td>\n",
              "      <td>ESE</td>\n",
              "      <td>7.0</td>\n",
              "      <td>9.0</td>\n",
              "      <td>65.0</td>\n",
              "      <td>53.0</td>\n",
              "      <td>1028.4</td>\n",
              "      <td>1026.7</td>\n",
              "      <td>1.0</td>\n",
              "      <td>1.0</td>\n",
              "      <td>18.3</td>\n",
              "      <td>22.3</td>\n",
              "      <td>0</td>\n",
              "      <td>0</td>\n",
              "    </tr>\n",
              "    <tr>\n",
              "      <th>1</th>\n",
              "      <td>Sydney</td>\n",
              "      <td>15.4</td>\n",
              "      <td>21.2</td>\n",
              "      <td>61.2</td>\n",
              "      <td>5.8</td>\n",
              "      <td>2.7</td>\n",
              "      <td>S</td>\n",
              "      <td>43.0</td>\n",
              "      <td>WSW</td>\n",
              "      <td>SSW</td>\n",
              "      <td>19.0</td>\n",
              "      <td>24.0</td>\n",
              "      <td>91.0</td>\n",
              "      <td>65.0</td>\n",
              "      <td>1018.8</td>\n",
              "      <td>1016.5</td>\n",
              "      <td>8.0</td>\n",
              "      <td>7.0</td>\n",
              "      <td>15.6</td>\n",
              "      <td>20.7</td>\n",
              "      <td>1</td>\n",
              "      <td>1</td>\n",
              "    </tr>\n",
              "    <tr>\n",
              "      <th>2</th>\n",
              "      <td>Richmond</td>\n",
              "      <td>16.8</td>\n",
              "      <td>30.9</td>\n",
              "      <td>1.0</td>\n",
              "      <td>NaN</td>\n",
              "      <td>NaN</td>\n",
              "      <td>NE</td>\n",
              "      <td>35.0</td>\n",
              "      <td>NNW</td>\n",
              "      <td>NE</td>\n",
              "      <td>7.0</td>\n",
              "      <td>26.0</td>\n",
              "      <td>80.0</td>\n",
              "      <td>38.0</td>\n",
              "      <td>1020.4</td>\n",
              "      <td>1013.2</td>\n",
              "      <td>1.0</td>\n",
              "      <td>NaN</td>\n",
              "      <td>19.6</td>\n",
              "      <td>30.0</td>\n",
              "      <td>0</td>\n",
              "      <td>0</td>\n",
              "    </tr>\n",
              "    <tr>\n",
              "      <th>3</th>\n",
              "      <td>NorfolkIsland</td>\n",
              "      <td>13.9</td>\n",
              "      <td>17.1</td>\n",
              "      <td>0.2</td>\n",
              "      <td>3.8</td>\n",
              "      <td>8.9</td>\n",
              "      <td>SE</td>\n",
              "      <td>37.0</td>\n",
              "      <td>SE</td>\n",
              "      <td>SSE</td>\n",
              "      <td>17.0</td>\n",
              "      <td>20.0</td>\n",
              "      <td>56.0</td>\n",
              "      <td>63.0</td>\n",
              "      <td>1027.7</td>\n",
              "      <td>1026.1</td>\n",
              "      <td>3.0</td>\n",
              "      <td>1.0</td>\n",
              "      <td>15.3</td>\n",
              "      <td>15.8</td>\n",
              "      <td>0</td>\n",
              "      <td>0</td>\n",
              "    </tr>\n",
              "    <tr>\n",
              "      <th>4</th>\n",
              "      <td>Dartmoor</td>\n",
              "      <td>7.4</td>\n",
              "      <td>14.4</td>\n",
              "      <td>1.8</td>\n",
              "      <td>2.4</td>\n",
              "      <td>8.3</td>\n",
              "      <td>SSW</td>\n",
              "      <td>37.0</td>\n",
              "      <td>NaN</td>\n",
              "      <td>SW</td>\n",
              "      <td>0.0</td>\n",
              "      <td>17.0</td>\n",
              "      <td>100.0</td>\n",
              "      <td>58.0</td>\n",
              "      <td>1026.0</td>\n",
              "      <td>1026.1</td>\n",
              "      <td>NaN</td>\n",
              "      <td>NaN</td>\n",
              "      <td>9.1</td>\n",
              "      <td>13.5</td>\n",
              "      <td>1</td>\n",
              "      <td>0</td>\n",
              "    </tr>\n",
              "  </tbody>\n",
              "</table>\n",
              "</div>\n",
              "      <button class=\"colab-df-convert\" onclick=\"convertToInteractive('df-38c3c1a6-1341-48ab-96ff-cbc276ebba1a')\"\n",
              "              title=\"Convert this dataframe to an interactive table.\"\n",
              "              style=\"display:none;\">\n",
              "        \n",
              "  <svg xmlns=\"http://www.w3.org/2000/svg\" height=\"24px\"viewBox=\"0 0 24 24\"\n",
              "       width=\"24px\">\n",
              "    <path d=\"M0 0h24v24H0V0z\" fill=\"none\"/>\n",
              "    <path d=\"M18.56 5.44l.94 2.06.94-2.06 2.06-.94-2.06-.94-.94-2.06-.94 2.06-2.06.94zm-11 1L8.5 8.5l.94-2.06 2.06-.94-2.06-.94L8.5 2.5l-.94 2.06-2.06.94zm10 10l.94 2.06.94-2.06 2.06-.94-2.06-.94-.94-2.06-.94 2.06-2.06.94z\"/><path d=\"M17.41 7.96l-1.37-1.37c-.4-.4-.92-.59-1.43-.59-.52 0-1.04.2-1.43.59L10.3 9.45l-7.72 7.72c-.78.78-.78 2.05 0 2.83L4 21.41c.39.39.9.59 1.41.59.51 0 1.02-.2 1.41-.59l7.78-7.78 2.81-2.81c.8-.78.8-2.07 0-2.86zM5.41 20L4 18.59l7.72-7.72 1.47 1.35L5.41 20z\"/>\n",
              "  </svg>\n",
              "      </button>\n",
              "      \n",
              "  <style>\n",
              "    .colab-df-container {\n",
              "      display:flex;\n",
              "      flex-wrap:wrap;\n",
              "      gap: 12px;\n",
              "    }\n",
              "\n",
              "    .colab-df-convert {\n",
              "      background-color: #E8F0FE;\n",
              "      border: none;\n",
              "      border-radius: 50%;\n",
              "      cursor: pointer;\n",
              "      display: none;\n",
              "      fill: #1967D2;\n",
              "      height: 32px;\n",
              "      padding: 0 0 0 0;\n",
              "      width: 32px;\n",
              "    }\n",
              "\n",
              "    .colab-df-convert:hover {\n",
              "      background-color: #E2EBFA;\n",
              "      box-shadow: 0px 1px 2px rgba(60, 64, 67, 0.3), 0px 1px 3px 1px rgba(60, 64, 67, 0.15);\n",
              "      fill: #174EA6;\n",
              "    }\n",
              "\n",
              "    [theme=dark] .colab-df-convert {\n",
              "      background-color: #3B4455;\n",
              "      fill: #D2E3FC;\n",
              "    }\n",
              "\n",
              "    [theme=dark] .colab-df-convert:hover {\n",
              "      background-color: #434B5C;\n",
              "      box-shadow: 0px 1px 3px 1px rgba(0, 0, 0, 0.15);\n",
              "      filter: drop-shadow(0px 1px 2px rgba(0, 0, 0, 0.3));\n",
              "      fill: #FFFFFF;\n",
              "    }\n",
              "  </style>\n",
              "\n",
              "      <script>\n",
              "        const buttonEl =\n",
              "          document.querySelector('#df-38c3c1a6-1341-48ab-96ff-cbc276ebba1a button.colab-df-convert');\n",
              "        buttonEl.style.display =\n",
              "          google.colab.kernel.accessAllowed ? 'block' : 'none';\n",
              "\n",
              "        async function convertToInteractive(key) {\n",
              "          const element = document.querySelector('#df-38c3c1a6-1341-48ab-96ff-cbc276ebba1a');\n",
              "          const dataTable =\n",
              "            await google.colab.kernel.invokeFunction('convertToInteractive',\n",
              "                                                     [key], {});\n",
              "          if (!dataTable) return;\n",
              "\n",
              "          const docLinkHtml = 'Like what you see? Visit the ' +\n",
              "            '<a target=\"_blank\" href=https://colab.research.google.com/notebooks/data_table.ipynb>data table notebook</a>'\n",
              "            + ' to learn more about interactive tables.';\n",
              "          element.innerHTML = '';\n",
              "          dataTable['output_type'] = 'display_data';\n",
              "          await google.colab.output.renderOutput(dataTable, element);\n",
              "          const docLink = document.createElement('div');\n",
              "          docLink.innerHTML = docLinkHtml;\n",
              "          element.appendChild(docLink);\n",
              "        }\n",
              "      </script>\n",
              "    </div>\n",
              "  </div>\n",
              "  "
            ],
            "text/plain": [
              "        Location  MinTemp  MaxTemp  ...  Temp3pm  RainToday  RainTomorrow\n",
              "0       Brisbane     13.7     23.6  ...     22.3          0             0\n",
              "1         Sydney     15.4     21.2  ...     20.7          1             1\n",
              "2       Richmond     16.8     30.9  ...     30.0          0             0\n",
              "3  NorfolkIsland     13.9     17.1  ...     15.8          0             0\n",
              "4       Dartmoor      7.4     14.4  ...     13.5          1             0\n",
              "\n",
              "[5 rows x 22 columns]"
            ]
          },
          "metadata": {},
          "execution_count": 16
        }
      ]
    },
    {
      "cell_type": "code",
      "source": [
        "train.info()"
      ],
      "metadata": {
        "colab": {
          "base_uri": "https://localhost:8080/"
        },
        "id": "fSu3peL0urVb",
        "outputId": "866b1aa5-51e7-4a4b-9999-4d49f7fd9c24"
      },
      "execution_count": null,
      "outputs": [
        {
          "output_type": "stream",
          "name": "stdout",
          "text": [
            "<class 'pandas.core.frame.DataFrame'>\n",
            "RangeIndex: 135414 entries, 0 to 135413\n",
            "Data columns (total 22 columns):\n",
            " #   Column         Non-Null Count   Dtype  \n",
            "---  ------         --------------   -----  \n",
            " 0   Location       135414 non-null  object \n",
            " 1   MinTemp        134061 non-null  float64\n",
            " 2   MaxTemp        134260 non-null  float64\n",
            " 3   Rainfall       132401 non-null  float64\n",
            " 4   Evaporation    79262 non-null   float64\n",
            " 5   Sunshine       73028 non-null   float64\n",
            " 6   WindGustDir    125722 non-null  object \n",
            " 7   WindGustSpeed  125785 non-null  float64\n",
            " 8   WindDir9am     125506 non-null  object \n",
            " 9   WindDir3pm     131665 non-null  object \n",
            " 10  WindSpeed9am   133719 non-null  float64\n",
            " 11  WindSpeed3pm   132786 non-null  float64\n",
            " 12  Humidity9am    132946 non-null  float64\n",
            " 13  Humidity3pm    131631 non-null  float64\n",
            " 14  Pressure9am    121397 non-null  float64\n",
            " 15  Pressure3pm    121431 non-null  float64\n",
            " 16  Cloud9am       84221 non-null   float64\n",
            " 17  Cloud3pm       81547 non-null   float64\n",
            " 18  Temp9am        133723 non-null  float64\n",
            " 19  Temp3pm        132439 non-null  float64\n",
            " 20  RainToday      135414 non-null  int64  \n",
            " 21  RainTomorrow   135414 non-null  int64  \n",
            "dtypes: float64(16), int64(2), object(4)\n",
            "memory usage: 22.7+ MB\n"
          ]
        }
      ]
    },
    {
      "cell_type": "code",
      "source": [
        "train.Location.unique()"
      ],
      "metadata": {
        "colab": {
          "base_uri": "https://localhost:8080/"
        },
        "id": "lBc7fsPwurTd",
        "outputId": "67f16bf9-8e78-46bc-d5bf-04878b609047"
      },
      "execution_count": null,
      "outputs": [
        {
          "output_type": "execute_result",
          "data": {
            "text/plain": [
              "array(['Brisbane', 'Sydney', 'Richmond', 'NorfolkIsland', 'Dartmoor',\n",
              "       'Mildura', 'Adelaide', 'GoldCoast', 'Woomera', 'Witchcliffe',\n",
              "       'Uluru', 'Albury', 'Cairns', 'Bendigo', 'Newcastle', 'Moree',\n",
              "       'Canberra', 'Williamtown', 'PerthAirport', 'MountGambier',\n",
              "       'Katherine', 'Nhil', 'Perth', 'Melbourne', 'Townsville',\n",
              "       'WaggaWagga', 'Launceston', 'MountGinini', 'Darwin', 'Ballarat',\n",
              "       'Watsonia', 'Penrith', 'NorahHead', 'Portland', 'SalmonGums',\n",
              "       'BadgerysCreek', 'MelbourneAirport', 'Walpole', 'Hobart',\n",
              "       'CoffsHarbour', 'SydneyAirport', 'Albany', 'Tuggeranong',\n",
              "       'Nuriootpa', 'AliceSprings', 'Wollongong', 'PearceRAAF', 'Cobar',\n",
              "       'Sale'], dtype=object)"
            ]
          },
          "metadata": {},
          "execution_count": 8
        }
      ]
    },
    {
      "cell_type": "code",
      "source": [
        "#NaN's in categorical\n",
        "train['WindGustDir'].fillna(method='ffill', inplace=True)\n",
        "train['WindDir9am'].fillna(method='ffill', inplace=True)\n",
        "train['WindDir3pm'].fillna(method='ffill', inplace=True)\n",
        "\n",
        "test['WindGustDir'].fillna(method='ffill', inplace=True)\n",
        "test['WindDir9am'].fillna(method='ffill', inplace=True)\n",
        "test['WindDir3pm'].fillna(method='ffill', inplace=True)"
      ],
      "metadata": {
        "id": "5gR9udOg2kgS"
      },
      "execution_count": null,
      "outputs": []
    },
    {
      "cell_type": "code",
      "source": [
        "from catboost import CatBoostClassifier, Pool, cv"
      ],
      "metadata": {
        "id": "sZpw2w5f1NFW"
      },
      "execution_count": null,
      "outputs": []
    },
    {
      "cell_type": "code",
      "source": [
        "cat_columns = ['Location', 'WindGustDir', 'WindDir9am', 'WindDir3pm']"
      ],
      "metadata": {
        "id": "fqVOG50cvBk8"
      },
      "execution_count": null,
      "outputs": []
    },
    {
      "cell_type": "code",
      "source": [
        "model = CatBoostClassifier(iterations=2500,\n",
        "                           learning_rate=0.01,\n",
        "                           depth=8,\n",
        "                           eval_metric= \"F1\",\n",
        "                           task_type=\"GPU\",\n",
        "                          devices='0:1',\n",
        "                          silent=True)"
      ],
      "metadata": {
        "id": "Wu6zkVURvB2p"
      },
      "execution_count": null,
      "outputs": []
    },
    {
      "cell_type": "code",
      "source": [
        "train_pool = Pool(train.drop(columns=['RainTomorrow']), train['RainTomorrow'], cat_features=cat_columns)"
      ],
      "metadata": {
        "id": "ulRWbkxPvCAM"
      },
      "execution_count": null,
      "outputs": []
    },
    {
      "cell_type": "code",
      "source": [
        "model.fit(train_pool,verbose=False)"
      ],
      "metadata": {
        "colab": {
          "base_uri": "https://localhost:8080/"
        },
        "id": "73459X2ovCJw",
        "outputId": "7f5d46ea-2c7f-4512-8dc5-296997a8a52a"
      },
      "execution_count": null,
      "outputs": [
        {
          "output_type": "execute_result",
          "data": {
            "text/plain": [
              "<catboost.core.CatBoostClassifier at 0x7fc989ec0dd0>"
            ]
          },
          "metadata": {},
          "execution_count": 64
        }
      ]
    },
    {
      "cell_type": "code",
      "source": [
        "# preds_proba = model.predict_proba(test)[:, 1]\n",
        "# predict = pd.DataFrame(preds_proba)\n",
        "preds = model.predict(test)\n",
        "predict = pd.DataFrame(preds)\n",
        "predict.to_csv('submit_task11.csv', index=False, header=None)"
      ],
      "metadata": {
        "id": "7XWMHChY3F_Y"
      },
      "execution_count": null,
      "outputs": []
    }
  ]
}